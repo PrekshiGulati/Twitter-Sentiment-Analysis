{
 "cells": [
  {
   "cell_type": "code",
   "execution_count": 1,
   "metadata": {},
   "outputs": [],
   "source": [
    "from textblob import TextBlob\n",
    "import sys, tweepy\n",
    "from tweepy import API\n",
    "\n",
    "from tweepy import OAuthHandler"
   ]
  },
  {
   "cell_type": "code",
   "execution_count": 2,
   "metadata": {},
   "outputs": [],
   "source": [
    "consumer_key = \"4vfkAV19HTl3MWsWzERGmqaut\"\n",
    "consumer_secret = \"qVkhJPOgk2XCOqQIVKOwdp0JXR6A1hTwvG9UFW7FmrZrusRB8c\"\n",
    "access_tokens = \"394085841-K4JCh60Ex3gkew4g4vuIhwqR3hU6GdYp5nxJ4bn4\"\n",
    "access_token_secret = \"KI89AiZtN7jQm7W89CI37mguC5yzfTbyqYZqKdUOkfG4f\""
   ]
  },
  {
   "cell_type": "code",
   "execution_count": 3,
   "metadata": {},
   "outputs": [],
   "source": [
    "auth = tweepy.OAuthHandler(consumer_key, consumer_secret)\n",
    "auth.set_access_token(access_tokens, access_token_secret)\n",
    "api = tweepy.API(auth, wait_on_rate_limit=True)"
   ]
  },
  {
   "cell_type": "code",
   "execution_count": 4,
   "metadata": {},
   "outputs": [
    {
     "name": "stdout",
     "output_type": "stream",
     "text": [
      "Connecting to wss://anvil.works/uplink\n",
      "Anvil websocket open\n",
      "Authenticated OK\n"
     ]
    }
   ],
   "source": [
    "import anvil.server\n",
    "\n",
    "anvil.server.connect(\"OF3XSGQE7INQMZSSBURBHW3L-EAAXP74JRPRTN623\")\n"
   ]
  },
  {
   "cell_type": "code",
   "execution_count": 5,
   "metadata": {},
   "outputs": [],
   "source": [
    "from anvil import*"
   ]
  },
  {
   "cell_type": "code",
   "execution_count": 6,
   "metadata": {},
   "outputs": [],
   "source": [
    "@anvil.server.callable\n",
    "def tweetwork(search_term,no_of_search_terms):\n",
    "    positive = 0\n",
    "    negative = 0\n",
    "    neutral = 0\n",
    "    polarity = 0\n",
    "    print(\"hell\")\n",
    "    # Call  the tweepy.\n",
    "\n",
    "    public_tweets = tweepy.Cursor(api.search, q=search_term).items(no_of_search_terms)\n",
    "\n",
    "\n",
    "    for tweet in public_tweets:\n",
    "        print(tweet.text)\n",
    "        analysis = TextBlob(tweet.text)\n",
    "        polarity += analysis.sentiment.polarity\n",
    "        print(analysis.sentiment)\n",
    "\n",
    "        if(analysis.sentiment.polarity ==0):\n",
    "            neutral += 1\n",
    "        elif(analysis.sentiment.polarity < 0.00):\n",
    "            negative += 1\n",
    "        elif(analysis.sentiment.polarity > 0.00):\n",
    "            positive += 1\n",
    "\n",
    "\n",
    "    def percentage(part, whole):\n",
    "        return 100 * float(part) / float(whole)\n",
    "\n",
    "\n",
    "    positive = percentage(positive, no_of_search_terms)\n",
    "    neutral = percentage(neutral, no_of_search_terms)\n",
    "    negative = percentage(negative, no_of_search_terms)\n",
    "\n",
    "    positive = format(positive,'.2f')\n",
    "    neutral = format(neutral,'.2f')\n",
    "    negative = format(negative,'.2f')\n",
    "\n",
    "## Get the observation how people are reacting to the searched keyword.\n",
    "\n",
    "#print(\"How people are reacting on \" + search_term + \" by analyzing \" + str(no_of_search_terms) + \" Tweets\")\n",
    "    if(polarity == 0):\n",
    "        print(\"Neutral\")\n",
    "        return \"Neutral\"\n",
    "    elif(polarity < 0):\n",
    "        print(\"Negative\")\n",
    "        return \"Negative\"\n",
    "    elif(polarity > 0):\n",
    "        print(\"Positive\")\n",
    "        return \"Positive\"\n"
   ]
  },
  {
   "cell_type": "code",
   "execution_count": null,
   "metadata": {},
   "outputs": [],
   "source": []
  },
  {
   "cell_type": "code",
   "execution_count": null,
   "metadata": {},
   "outputs": [],
   "source": []
  }
 ],
 "metadata": {
  "kernelspec": {
   "display_name": "Python 3",
   "language": "python",
   "name": "python3"
  },
  "language_info": {
   "codemirror_mode": {
    "name": "ipython",
    "version": 3
   },
   "file_extension": ".py",
   "mimetype": "text/x-python",
   "name": "python",
   "nbconvert_exporter": "python",
   "pygments_lexer": "ipython3",
   "version": "3.7.3"
  }
 },
 "nbformat": 4,
 "nbformat_minor": 2
}
